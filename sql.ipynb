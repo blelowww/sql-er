{
  "nbformat": 4,
  "nbformat_minor": 0,
  "metadata": {
    "colab": {
      "name": "sql.ipynb",
      "provenance": [],
      "collapsed_sections": [],
      "authorship_tag": "ABX9TyNXD0ODIRQvtty7Jo4Z1W5y",
      "include_colab_link": true
    },
    "kernelspec": {
      "name": "python3",
      "display_name": "Python 3"
    }
  },
  "cells": [
    {
      "cell_type": "markdown",
      "metadata": {
        "id": "view-in-github",
        "colab_type": "text"
      },
      "source": [
        "<a href=\"https://colab.research.google.com/github/blelowww/sql-er/blob/master/sql.ipynb\" target=\"_parent\"><img src=\"https://colab.research.google.com/assets/colab-badge.svg\" alt=\"Open In Colab\"/></a>"
      ]
    },
    {
      "cell_type": "markdown",
      "metadata": {
        "id": "yREYtyz74is7",
        "colab_type": "text"
      },
      "source": [
        "# จรัสพงศ์ เทพรอด 6030804921\n"
      ]
    },
    {
      "cell_type": "code",
      "metadata": {
        "id": "raJjhQiYwwKY",
        "colab_type": "code",
        "colab": {
          "base_uri": "https://localhost:8080/",
          "height": 34
        },
        "outputId": "ecfd3269-834c-4d01-91fa-71ac97a62ef6"
      },
      "source": [
        "# CREATING THE TABLE\n",
        "import pandas as pd\n",
        "import sqlite3\n",
        "conn = sqlite3.connect('sqlhw.db')\n",
        "conn.execute('''\n",
        "CREATE TABLE IF NOT EXISTS sensor (\n",
        "\tid CHAR(3) PRIMARY KEY NOT NULL,\n",
        "\tname CHAR(50) NOT NULL ,\n",
        "  place CHAR(50) NOT NULL\n",
        ");''')\n",
        "\n",
        "conn.execute('''\n",
        "CREATE TABLE data (\n",
        "\tid CHAR(3) NOT NULL,\n",
        "\tdate_time datetime NOT NULL,\n",
        "\tpm INTEGER NOT NULL ,\n",
        "\ttemp INTEGER NOT NULL \n",
        "\t\tCONSTRAINT fk_dat_ID REFERENCES sens(sen_ID));''')\n",
        "conn.commit()\n",
        "print(\"Table created successfully\")"
      ],
      "execution_count": 17,
      "outputs": [
        {
          "output_type": "stream",
          "text": [
            "Table created successfully\n"
          ],
          "name": "stdout"
        }
      ]
    },
    {
      "cell_type": "code",
      "metadata": {
        "id": "Pxxj6ZV1w2D-",
        "colab_type": "code",
        "colab": {
          "base_uri": "https://localhost:8080/",
          "height": 34
        },
        "outputId": "deb585bf-11bd-4b46-b658-76904cb30493"
      },
      "source": [
        "#add sensor\n",
        "conn.execute(\"INSERT INTO sensor(id,place,name) VALUES('1','Bangkok','Sensor 1');\")\n",
        "conn.execute(\"INSERT INTO sensor(id,place,name) VALUES('2','Nonthaburi','Sensor 2');\")\n",
        "conn.execute(\"INSERT INTO sensor(id,place,name) VALUES('3','Trat','Sensor 3');\")\n",
        "conn.execute(\"INSERT INTO sensor(id,place,name) VALUES('4','Phuket','Sensor 4');\")\n",
        "conn.execute(\"INSERT INTO sensor(id,place,name) VALUES('5','Pattaya','Sensor 5');\")"
      ],
      "execution_count": 42,
      "outputs": [
        {
          "output_type": "execute_result",
          "data": {
            "text/plain": [
              "<sqlite3.Cursor at 0x7f9181d16f10>"
            ]
          },
          "metadata": {
            "tags": []
          },
          "execution_count": 42
        }
      ]
    },
    {
      "cell_type": "code",
      "metadata": {
        "id": "nv0ubVKaw44T",
        "colab_type": "code",
        "colab": {
          "base_uri": "https://localhost:8080/",
          "height": 204
        },
        "outputId": "c9cbc1e6-ad3c-4ac7-b1ef-d5c8567f4156"
      },
      "source": [
        "pd.read_sql_query(\"SELECT * FROM sensor\", conn)"
      ],
      "execution_count": 43,
      "outputs": [
        {
          "output_type": "execute_result",
          "data": {
            "text/html": [
              "<div>\n",
              "<style scoped>\n",
              "    .dataframe tbody tr th:only-of-type {\n",
              "        vertical-align: middle;\n",
              "    }\n",
              "\n",
              "    .dataframe tbody tr th {\n",
              "        vertical-align: top;\n",
              "    }\n",
              "\n",
              "    .dataframe thead th {\n",
              "        text-align: right;\n",
              "    }\n",
              "</style>\n",
              "<table border=\"1\" class=\"dataframe\">\n",
              "  <thead>\n",
              "    <tr style=\"text-align: right;\">\n",
              "      <th></th>\n",
              "      <th>id</th>\n",
              "      <th>name</th>\n",
              "      <th>place</th>\n",
              "    </tr>\n",
              "  </thead>\n",
              "  <tbody>\n",
              "    <tr>\n",
              "      <th>0</th>\n",
              "      <td>1</td>\n",
              "      <td>Sensor 1</td>\n",
              "      <td>Bangkok</td>\n",
              "    </tr>\n",
              "    <tr>\n",
              "      <th>1</th>\n",
              "      <td>2</td>\n",
              "      <td>Sensor 2</td>\n",
              "      <td>Nonthaburi</td>\n",
              "    </tr>\n",
              "    <tr>\n",
              "      <th>2</th>\n",
              "      <td>3</td>\n",
              "      <td>Sensor 3</td>\n",
              "      <td>Trat</td>\n",
              "    </tr>\n",
              "    <tr>\n",
              "      <th>3</th>\n",
              "      <td>4</td>\n",
              "      <td>Sensor 4</td>\n",
              "      <td>Phuket</td>\n",
              "    </tr>\n",
              "    <tr>\n",
              "      <th>4</th>\n",
              "      <td>5</td>\n",
              "      <td>Sensor 5</td>\n",
              "      <td>Pattaya</td>\n",
              "    </tr>\n",
              "  </tbody>\n",
              "</table>\n",
              "</div>"
            ],
            "text/plain": [
              "  id      name       place\n",
              "0  1  Sensor 1     Bangkok\n",
              "1  2  Sensor 2  Nonthaburi\n",
              "2  3  Sensor 3        Trat\n",
              "3  4  Sensor 4      Phuket\n",
              "4  5  Sensor 5     Pattaya"
            ]
          },
          "metadata": {
            "tags": []
          },
          "execution_count": 43
        }
      ]
    },
    {
      "cell_type": "code",
      "metadata": {
        "id": "_LJKKpZ0zU6J",
        "colab_type": "code",
        "colab": {
          "base_uri": "https://localhost:8080/",
          "height": 34
        },
        "outputId": "0a307cd7-22d7-4250-950a-730914281f71"
      },
      "source": [
        "#add data in each sensor\n",
        "conn.execute(\"INSERT INTO data(id,date_time,pm,temp) VALUES('1','1/1/2020 8:00:00',100,34);\")\n",
        "conn.execute(\"INSERT INTO data(id,date_time,pm,temp) VALUES('1','2/1/2020 12:00:00',120,40);\")\n",
        "conn.execute(\"INSERT INTO data(id,date_time,pm,temp) VALUES('1','3/1/2020 16:00:00',118,36);\")\n",
        "conn.execute(\"INSERT INTO data(id,date_time,pm,temp) VALUES('2','1/1/2020 8:00:00',102,38);\")\n",
        "conn.execute(\"INSERT INTO data(id,date_time,pm,temp) VALUES('2','2/1/2020 12:00:00',112,39);\")\n",
        "conn.execute(\"INSERT INTO data(id,date_time,pm,temp) VALUES('2','3/1/2020 16:00:00',108,36);\")\n",
        "conn.execute(\"INSERT INTO data(id,date_time,pm,temp) VALUES('3','1/1/2020 8:00:00',100,33);\")\n",
        "conn.execute(\"INSERT INTO data(id,date_time,pm,temp) VALUES('3','2/1/2020 12:00:00',90,39);\")\n",
        "conn.execute(\"INSERT INTO data(id,date_time,pm,temp) VALUES('3','3/1/2020 16:00:00',96,37);\")\n",
        "conn.execute(\"INSERT INTO data(id,date_time,pm,temp) VALUES('4','1/1/2020 8:00:00',108,36);\")\n",
        "conn.execute(\"INSERT INTO data(id,date_time,pm,temp) VALUES('4','2/1/2020 12:00:00',106,42);\")\n",
        "conn.execute(\"INSERT INTO data(id,date_time,pm,temp) VALUES('4','3/1/2020 16:00:00',103,36);\")\n",
        "conn.execute(\"INSERT INTO data(id,date_time,pm,temp) VALUES('5','1/1/2020 8:00:00',70,39);\")\n",
        "conn.execute(\"INSERT INTO data(id,date_time,pm,temp) VALUES('5','2/1/2020 12:00:00',83,45);\")\n",
        "conn.execute(\"INSERT INTO data(id,date_time,pm,temp) VALUES('5','3/1/2020 16:00:00',85,34);\")"
      ],
      "execution_count": 44,
      "outputs": [
        {
          "output_type": "execute_result",
          "data": {
            "text/plain": [
              "<sqlite3.Cursor at 0x7f9181cc9030>"
            ]
          },
          "metadata": {
            "tags": []
          },
          "execution_count": 44
        }
      ]
    },
    {
      "cell_type": "code",
      "metadata": {
        "id": "ls0q6OEy1i13",
        "colab_type": "code",
        "colab": {
          "base_uri": "https://localhost:8080/",
          "height": 514
        },
        "outputId": "86e2bc86-699d-49c7-bab9-c4c1912d36c5"
      },
      "source": [
        "pd.read_sql_query(\"SELECT * FROM data\", conn)"
      ],
      "execution_count": 45,
      "outputs": [
        {
          "output_type": "execute_result",
          "data": {
            "text/html": [
              "<div>\n",
              "<style scoped>\n",
              "    .dataframe tbody tr th:only-of-type {\n",
              "        vertical-align: middle;\n",
              "    }\n",
              "\n",
              "    .dataframe tbody tr th {\n",
              "        vertical-align: top;\n",
              "    }\n",
              "\n",
              "    .dataframe thead th {\n",
              "        text-align: right;\n",
              "    }\n",
              "</style>\n",
              "<table border=\"1\" class=\"dataframe\">\n",
              "  <thead>\n",
              "    <tr style=\"text-align: right;\">\n",
              "      <th></th>\n",
              "      <th>id</th>\n",
              "      <th>date_time</th>\n",
              "      <th>pm</th>\n",
              "      <th>temp</th>\n",
              "    </tr>\n",
              "  </thead>\n",
              "  <tbody>\n",
              "    <tr>\n",
              "      <th>0</th>\n",
              "      <td>1</td>\n",
              "      <td>1/1/2020 8:00:00</td>\n",
              "      <td>100</td>\n",
              "      <td>34</td>\n",
              "    </tr>\n",
              "    <tr>\n",
              "      <th>1</th>\n",
              "      <td>1</td>\n",
              "      <td>2/1/2020 12:00:00</td>\n",
              "      <td>120</td>\n",
              "      <td>40</td>\n",
              "    </tr>\n",
              "    <tr>\n",
              "      <th>2</th>\n",
              "      <td>1</td>\n",
              "      <td>3/1/2020 16:00:00</td>\n",
              "      <td>118</td>\n",
              "      <td>36</td>\n",
              "    </tr>\n",
              "    <tr>\n",
              "      <th>3</th>\n",
              "      <td>2</td>\n",
              "      <td>1/1/2020 8:00:00</td>\n",
              "      <td>102</td>\n",
              "      <td>38</td>\n",
              "    </tr>\n",
              "    <tr>\n",
              "      <th>4</th>\n",
              "      <td>2</td>\n",
              "      <td>2/1/2020 12:00:00</td>\n",
              "      <td>112</td>\n",
              "      <td>39</td>\n",
              "    </tr>\n",
              "    <tr>\n",
              "      <th>5</th>\n",
              "      <td>2</td>\n",
              "      <td>3/1/2020 16:00:00</td>\n",
              "      <td>108</td>\n",
              "      <td>36</td>\n",
              "    </tr>\n",
              "    <tr>\n",
              "      <th>6</th>\n",
              "      <td>3</td>\n",
              "      <td>1/1/2020 8:00:00</td>\n",
              "      <td>100</td>\n",
              "      <td>33</td>\n",
              "    </tr>\n",
              "    <tr>\n",
              "      <th>7</th>\n",
              "      <td>3</td>\n",
              "      <td>2/1/2020 12:00:00</td>\n",
              "      <td>90</td>\n",
              "      <td>39</td>\n",
              "    </tr>\n",
              "    <tr>\n",
              "      <th>8</th>\n",
              "      <td>3</td>\n",
              "      <td>3/1/2020 16:00:00</td>\n",
              "      <td>96</td>\n",
              "      <td>37</td>\n",
              "    </tr>\n",
              "    <tr>\n",
              "      <th>9</th>\n",
              "      <td>4</td>\n",
              "      <td>1/1/2020 8:00:00</td>\n",
              "      <td>108</td>\n",
              "      <td>36</td>\n",
              "    </tr>\n",
              "    <tr>\n",
              "      <th>10</th>\n",
              "      <td>4</td>\n",
              "      <td>2/1/2020 12:00:00</td>\n",
              "      <td>106</td>\n",
              "      <td>42</td>\n",
              "    </tr>\n",
              "    <tr>\n",
              "      <th>11</th>\n",
              "      <td>4</td>\n",
              "      <td>3/1/2020 16:00:00</td>\n",
              "      <td>103</td>\n",
              "      <td>36</td>\n",
              "    </tr>\n",
              "    <tr>\n",
              "      <th>12</th>\n",
              "      <td>5</td>\n",
              "      <td>1/1/2020 8:00:00</td>\n",
              "      <td>70</td>\n",
              "      <td>39</td>\n",
              "    </tr>\n",
              "    <tr>\n",
              "      <th>13</th>\n",
              "      <td>5</td>\n",
              "      <td>2/1/2020 12:00:00</td>\n",
              "      <td>83</td>\n",
              "      <td>45</td>\n",
              "    </tr>\n",
              "    <tr>\n",
              "      <th>14</th>\n",
              "      <td>5</td>\n",
              "      <td>3/1/2020 16:00:00</td>\n",
              "      <td>85</td>\n",
              "      <td>34</td>\n",
              "    </tr>\n",
              "  </tbody>\n",
              "</table>\n",
              "</div>"
            ],
            "text/plain": [
              "   id          date_time   pm  temp\n",
              "0   1   1/1/2020 8:00:00  100    34\n",
              "1   1  2/1/2020 12:00:00  120    40\n",
              "2   1  3/1/2020 16:00:00  118    36\n",
              "3   2   1/1/2020 8:00:00  102    38\n",
              "4   2  2/1/2020 12:00:00  112    39\n",
              "5   2  3/1/2020 16:00:00  108    36\n",
              "6   3   1/1/2020 8:00:00  100    33\n",
              "7   3  2/1/2020 12:00:00   90    39\n",
              "8   3  3/1/2020 16:00:00   96    37\n",
              "9   4   1/1/2020 8:00:00  108    36\n",
              "10  4  2/1/2020 12:00:00  106    42\n",
              "11  4  3/1/2020 16:00:00  103    36\n",
              "12  5   1/1/2020 8:00:00   70    39\n",
              "13  5  2/1/2020 12:00:00   83    45\n",
              "14  5  3/1/2020 16:00:00   85    34"
            ]
          },
          "metadata": {
            "tags": []
          },
          "execution_count": 45
        }
      ]
    },
    {
      "cell_type": "code",
      "metadata": {
        "id": "k3EwIy7d1oV_",
        "colab_type": "code",
        "colab": {
          "base_uri": "https://localhost:8080/",
          "height": 514
        },
        "outputId": "4200a50b-26aa-4340-f4b1-014f168433de"
      },
      "source": [
        "#join table with mutual id\n",
        "pd.read_sql_query('''SELECT s.id,s.name,s.place,d.date_time,d.pm,d.temp \n",
        "FROM sensor s\n",
        "INNER JOIN data d ON s.id = d.id \n",
        "ORDER BY s.name asc;''', conn)"
      ],
      "execution_count": 46,
      "outputs": [
        {
          "output_type": "execute_result",
          "data": {
            "text/html": [
              "<div>\n",
              "<style scoped>\n",
              "    .dataframe tbody tr th:only-of-type {\n",
              "        vertical-align: middle;\n",
              "    }\n",
              "\n",
              "    .dataframe tbody tr th {\n",
              "        vertical-align: top;\n",
              "    }\n",
              "\n",
              "    .dataframe thead th {\n",
              "        text-align: right;\n",
              "    }\n",
              "</style>\n",
              "<table border=\"1\" class=\"dataframe\">\n",
              "  <thead>\n",
              "    <tr style=\"text-align: right;\">\n",
              "      <th></th>\n",
              "      <th>id</th>\n",
              "      <th>name</th>\n",
              "      <th>place</th>\n",
              "      <th>date_time</th>\n",
              "      <th>pm</th>\n",
              "      <th>temp</th>\n",
              "    </tr>\n",
              "  </thead>\n",
              "  <tbody>\n",
              "    <tr>\n",
              "      <th>0</th>\n",
              "      <td>1</td>\n",
              "      <td>Sensor 1</td>\n",
              "      <td>Bangkok</td>\n",
              "      <td>1/1/2020 8:00:00</td>\n",
              "      <td>100</td>\n",
              "      <td>34</td>\n",
              "    </tr>\n",
              "    <tr>\n",
              "      <th>1</th>\n",
              "      <td>1</td>\n",
              "      <td>Sensor 1</td>\n",
              "      <td>Bangkok</td>\n",
              "      <td>2/1/2020 12:00:00</td>\n",
              "      <td>120</td>\n",
              "      <td>40</td>\n",
              "    </tr>\n",
              "    <tr>\n",
              "      <th>2</th>\n",
              "      <td>1</td>\n",
              "      <td>Sensor 1</td>\n",
              "      <td>Bangkok</td>\n",
              "      <td>3/1/2020 16:00:00</td>\n",
              "      <td>118</td>\n",
              "      <td>36</td>\n",
              "    </tr>\n",
              "    <tr>\n",
              "      <th>3</th>\n",
              "      <td>2</td>\n",
              "      <td>Sensor 2</td>\n",
              "      <td>Nonthaburi</td>\n",
              "      <td>1/1/2020 8:00:00</td>\n",
              "      <td>102</td>\n",
              "      <td>38</td>\n",
              "    </tr>\n",
              "    <tr>\n",
              "      <th>4</th>\n",
              "      <td>2</td>\n",
              "      <td>Sensor 2</td>\n",
              "      <td>Nonthaburi</td>\n",
              "      <td>2/1/2020 12:00:00</td>\n",
              "      <td>112</td>\n",
              "      <td>39</td>\n",
              "    </tr>\n",
              "    <tr>\n",
              "      <th>5</th>\n",
              "      <td>2</td>\n",
              "      <td>Sensor 2</td>\n",
              "      <td>Nonthaburi</td>\n",
              "      <td>3/1/2020 16:00:00</td>\n",
              "      <td>108</td>\n",
              "      <td>36</td>\n",
              "    </tr>\n",
              "    <tr>\n",
              "      <th>6</th>\n",
              "      <td>3</td>\n",
              "      <td>Sensor 3</td>\n",
              "      <td>Trat</td>\n",
              "      <td>1/1/2020 8:00:00</td>\n",
              "      <td>100</td>\n",
              "      <td>33</td>\n",
              "    </tr>\n",
              "    <tr>\n",
              "      <th>7</th>\n",
              "      <td>3</td>\n",
              "      <td>Sensor 3</td>\n",
              "      <td>Trat</td>\n",
              "      <td>2/1/2020 12:00:00</td>\n",
              "      <td>90</td>\n",
              "      <td>39</td>\n",
              "    </tr>\n",
              "    <tr>\n",
              "      <th>8</th>\n",
              "      <td>3</td>\n",
              "      <td>Sensor 3</td>\n",
              "      <td>Trat</td>\n",
              "      <td>3/1/2020 16:00:00</td>\n",
              "      <td>96</td>\n",
              "      <td>37</td>\n",
              "    </tr>\n",
              "    <tr>\n",
              "      <th>9</th>\n",
              "      <td>4</td>\n",
              "      <td>Sensor 4</td>\n",
              "      <td>Phuket</td>\n",
              "      <td>1/1/2020 8:00:00</td>\n",
              "      <td>108</td>\n",
              "      <td>36</td>\n",
              "    </tr>\n",
              "    <tr>\n",
              "      <th>10</th>\n",
              "      <td>4</td>\n",
              "      <td>Sensor 4</td>\n",
              "      <td>Phuket</td>\n",
              "      <td>2/1/2020 12:00:00</td>\n",
              "      <td>106</td>\n",
              "      <td>42</td>\n",
              "    </tr>\n",
              "    <tr>\n",
              "      <th>11</th>\n",
              "      <td>4</td>\n",
              "      <td>Sensor 4</td>\n",
              "      <td>Phuket</td>\n",
              "      <td>3/1/2020 16:00:00</td>\n",
              "      <td>103</td>\n",
              "      <td>36</td>\n",
              "    </tr>\n",
              "    <tr>\n",
              "      <th>12</th>\n",
              "      <td>5</td>\n",
              "      <td>Sensor 5</td>\n",
              "      <td>Pattaya</td>\n",
              "      <td>1/1/2020 8:00:00</td>\n",
              "      <td>70</td>\n",
              "      <td>39</td>\n",
              "    </tr>\n",
              "    <tr>\n",
              "      <th>13</th>\n",
              "      <td>5</td>\n",
              "      <td>Sensor 5</td>\n",
              "      <td>Pattaya</td>\n",
              "      <td>2/1/2020 12:00:00</td>\n",
              "      <td>83</td>\n",
              "      <td>45</td>\n",
              "    </tr>\n",
              "    <tr>\n",
              "      <th>14</th>\n",
              "      <td>5</td>\n",
              "      <td>Sensor 5</td>\n",
              "      <td>Pattaya</td>\n",
              "      <td>3/1/2020 16:00:00</td>\n",
              "      <td>85</td>\n",
              "      <td>34</td>\n",
              "    </tr>\n",
              "  </tbody>\n",
              "</table>\n",
              "</div>"
            ],
            "text/plain": [
              "   id      name       place          date_time   pm  temp\n",
              "0   1  Sensor 1     Bangkok   1/1/2020 8:00:00  100    34\n",
              "1   1  Sensor 1     Bangkok  2/1/2020 12:00:00  120    40\n",
              "2   1  Sensor 1     Bangkok  3/1/2020 16:00:00  118    36\n",
              "3   2  Sensor 2  Nonthaburi   1/1/2020 8:00:00  102    38\n",
              "4   2  Sensor 2  Nonthaburi  2/1/2020 12:00:00  112    39\n",
              "5   2  Sensor 2  Nonthaburi  3/1/2020 16:00:00  108    36\n",
              "6   3  Sensor 3        Trat   1/1/2020 8:00:00  100    33\n",
              "7   3  Sensor 3        Trat  2/1/2020 12:00:00   90    39\n",
              "8   3  Sensor 3        Trat  3/1/2020 16:00:00   96    37\n",
              "9   4  Sensor 4      Phuket   1/1/2020 8:00:00  108    36\n",
              "10  4  Sensor 4      Phuket  2/1/2020 12:00:00  106    42\n",
              "11  4  Sensor 4      Phuket  3/1/2020 16:00:00  103    36\n",
              "12  5  Sensor 5     Pattaya   1/1/2020 8:00:00   70    39\n",
              "13  5  Sensor 5     Pattaya  2/1/2020 12:00:00   83    45\n",
              "14  5  Sensor 5     Pattaya  3/1/2020 16:00:00   85    34"
            ]
          },
          "metadata": {
            "tags": []
          },
          "execution_count": 46
        }
      ]
    },
    {
      "cell_type": "markdown",
      "metadata": {
        "id": "6T1aPU1mlX0V",
        "colab_type": "text"
      },
      "source": [
        "![ER Diagram.jpg](data:image/jpeg;base64,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)"
      ]
    }
  ]
}